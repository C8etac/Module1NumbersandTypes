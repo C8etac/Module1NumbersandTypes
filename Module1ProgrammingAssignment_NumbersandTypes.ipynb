{
 "cells": [
  {
   "cell_type": "code",
   "execution_count": 75,
   "id": "6a9f99cc-df30-47c8-a2b6-b81340b22d1e",
   "metadata": {},
   "outputs": [
    {
     "name": "stdout",
     "output_type": "stream",
     "text": [
      "3.1 How many seconds are in an hour? 3600. Use the interactive interpreter as a calculator and multiply the number of seconds in a minute (60) by the number of minutes in an hour (also 60).\n"
     ]
    }
   ],
   "source": [
    "print('3.1 How many seconds are in an hour? 3600. Use the interactive interpreter as a calculator and multiply the number of seconds in a minute (60) by the number of minutes in an hour (also 60).')"
   ]
  },
  {
   "cell_type": "code",
   "execution_count": 19,
   "id": "7b5e085a-4cb5-4ee4-9a60-c2b7a7407f75",
   "metadata": {},
   "outputs": [
    {
     "data": {
      "text/plain": [
       "3600"
      ]
     },
     "execution_count": 19,
     "metadata": {},
     "output_type": "execute_result"
    }
   ],
   "source": [
    ">>> 60 * 60"
   ]
  },
  {
   "cell_type": "code",
   "execution_count": 21,
   "id": "4bdbf483-fd7a-4500-a366-b577bceadfd9",
   "metadata": {},
   "outputs": [
    {
     "name": "stdout",
     "output_type": "stream",
     "text": [
      "3.2 Assign the result from the previous task (seconds in an hour) to a variable called seconds_per_hour.\n"
     ]
    }
   ],
   "source": [
    "print('3.2 Assign the result from the previous task (seconds in an hour) to a variable called seconds_per_hour.')"
   ]
  },
  {
   "cell_type": "code",
   "execution_count": 45,
   "id": "b5c4a2f8-1c9d-42bb-a1b5-5757614d5145",
   "metadata": {},
   "outputs": [],
   "source": [
    ">>> seconds_per_hour = 60 * 60"
   ]
  },
  {
   "cell_type": "code",
   "execution_count": 77,
   "id": "586c7cca-2cb6-4730-8860-4149c84bfbf2",
   "metadata": {},
   "outputs": [
    {
     "name": "stdout",
     "output_type": "stream",
     "text": [
      "3.3 How many seconds are in a day? 86400. Use your seconds_per_hour variable.\n"
     ]
    }
   ],
   "source": [
    "print('3.3 How many seconds are in a day? 86400. Use your seconds_per_hour variable.')"
   ]
  },
  {
   "cell_type": "code",
   "execution_count": 49,
   "id": "23a67ed6-99ba-4db3-9bf9-52169299ab90",
   "metadata": {},
   "outputs": [
    {
     "data": {
      "text/plain": [
       "86400"
      ]
     },
     "execution_count": 49,
     "metadata": {},
     "output_type": "execute_result"
    }
   ],
   "source": [
    ">>> seconds_per_hour * 24"
   ]
  },
  {
   "cell_type": "code",
   "execution_count": 51,
   "id": "c6594d76-91b6-4fca-a64d-34a4a3b2f9a4",
   "metadata": {},
   "outputs": [
    {
     "name": "stdout",
     "output_type": "stream",
     "text": [
      "3.4 Calculate seconds per day again, but this time save the result in a variable called seconds_per_day.\n"
     ]
    }
   ],
   "source": [
    "print('3.4 Calculate seconds per day again, but this time save the result in a variable called seconds_per_day.')"
   ]
  },
  {
   "cell_type": "code",
   "execution_count": 53,
   "id": "feb33c49-29a7-4531-a2e8-c6390f7ba182",
   "metadata": {},
   "outputs": [],
   "source": [
    ">>> seconds_per_day = seconds_per_hour * 24"
   ]
  },
  {
   "cell_type": "code",
   "execution_count": 55,
   "id": "131a7a1b-b59f-498c-9ce5-bb3bfed27f10",
   "metadata": {},
   "outputs": [
    {
     "name": "stdout",
     "output_type": "stream",
     "text": [
      "3.5 Divide seconds_per_day by seconds_per_hour. Use floating-point (/) division.\n"
     ]
    }
   ],
   "source": [
    "print('3.5 Divide seconds_per_day by seconds_per_hour. Use floating-point (/) division.')"
   ]
  },
  {
   "cell_type": "code",
   "execution_count": 57,
   "id": "ac18d658-f215-47c0-96f8-3470931fa9c7",
   "metadata": {},
   "outputs": [
    {
     "data": {
      "text/plain": [
       "24.0"
      ]
     },
     "execution_count": 57,
     "metadata": {},
     "output_type": "execute_result"
    }
   ],
   "source": [
    ">>> seconds_per_day / seconds_per_hour"
   ]
  },
  {
   "cell_type": "code",
   "execution_count": 79,
   "id": "f8805ac6-c9ae-4d3e-b72e-795e767f349f",
   "metadata": {},
   "outputs": [
    {
     "name": "stdout",
     "output_type": "stream",
     "text": [
      "3.6 Divide seconds_per_day by seconds_per_hour, using integer (//) division. Did this number agree with the floating-point value from the previous question, aside from the final .0? Yes.\n"
     ]
    }
   ],
   "source": [
    "print('3.6 Divide seconds_per_day by seconds_per_hour, using integer (//) division. Did this number agree with the floating-point value from the previous question, aside from the final .0? Yes.')"
   ]
  },
  {
   "cell_type": "code",
   "execution_count": 61,
   "id": "bc74755e-875c-4b2e-af31-d563f8c869a8",
   "metadata": {},
   "outputs": [
    {
     "data": {
      "text/plain": [
       "24"
      ]
     },
     "execution_count": 61,
     "metadata": {},
     "output_type": "execute_result"
    }
   ],
   "source": [
    ">>> seconds_per_day // seconds_per_hour"
   ]
  },
  {
   "cell_type": "code",
   "execution_count": null,
   "id": "78a0cc18-be4d-4447-b13f-94328db682c0",
   "metadata": {},
   "outputs": [],
   "source": []
  }
 ],
 "metadata": {
  "kernelspec": {
   "display_name": "Python 3 (ipykernel)",
   "language": "python",
   "name": "python3"
  },
  "language_info": {
   "codemirror_mode": {
    "name": "ipython",
    "version": 3
   },
   "file_extension": ".py",
   "mimetype": "text/x-python",
   "name": "python",
   "nbconvert_exporter": "python",
   "pygments_lexer": "ipython3",
   "version": "3.12.4"
  }
 },
 "nbformat": 4,
 "nbformat_minor": 5
}
